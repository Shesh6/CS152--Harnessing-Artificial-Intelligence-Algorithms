{
  "nbformat": 4,
  "nbformat_minor": 0,
  "metadata": {
    "colab": {
      "name": "CS152Assignment2.ipynb",
      "version": "0.3.2",
      "provenance": [],
      "collapsed_sections": []
    },
    "kernelspec": {
      "name": "python3",
      "display_name": "Python 3"
    }
  },
  "cells": [
    {
      "metadata": {
        "id": "2n4WNglrGM2b",
        "colab_type": "text"
      },
      "cell_type": "markdown",
      "source": [
        "##CS152 Assignment 2: DPLL Algorithm\n",
        "_Yoav Rabinovich, Dec 2018_\n",
        "\n",
        "------------"
      ]
    },
    {
      "metadata": {
        "id": "BuGNrWWj4tsP",
        "colab_type": "text"
      },
      "cell_type": "markdown",
      "source": [
        "Sadly, I managed to break this implementation while working. I find it hard to pinpoint my mistake, but the testing isn't working. I unfourtunately ran out of time and 24-hour extensions trying to fix this implementation. I hope the documentation is clear enough to infer my level of understanding. I believe I have implemented the extensions successfully, and that the problem lies somewhere in the first few lines of the DPLL function.\n",
        "\n",
        "Apologies, Yoav.\n",
        "\n",
        "Link to notebook: https://gist.github.com/Shesh6/28a5957e37b3da25bef2f121c68dbd69#file-cs152assignment2-ipynb"
      ]
    },
    {
      "metadata": {
        "id": "LgRJU8lcYo8d",
        "colab_type": "text"
      },
      "cell_type": "markdown",
      "source": [
        "###Q1: Literal Class"
      ]
    },
    {
      "metadata": {
        "id": "HZBr5CV1GHsg",
        "colab_type": "code",
        "colab": {}
      },
      "cell_type": "code",
      "source": [
        "class Literal(object):\n",
        "  \"\"\"\n",
        "  This class represents a literal, and holds a name and a sign.\n",
        "  A negative sign is assigned by negating the object.\n",
        "  Equality is defined simply by equality of name,\n",
        "  since only a negated literal is false.\n",
        "  \"\"\"\n",
        "  \n",
        "  def __init__(self, name):\n",
        "    self.name = name\n",
        "    self.sign = True\n",
        "  \n",
        "  def flipSign(self):\n",
        "    self.sign = not self.sign\n",
        "   \n",
        "  # Hint 3: Using one set for literals\n",
        "  def __eq__(self, other):\n",
        "    return self.name == other.name\n",
        "  \n",
        "  def __neg__(self):\n",
        "    neg = Literal(self.name)\n",
        "    neg.flipSign()\n",
        "    return neg\n",
        "  \n",
        "  # Hash and repr, for use in dictionaries\n",
        "  def __hash__(self):\n",
        "    return hash(self.name)\n",
        "  \n",
        "  def __str__(self):\n",
        "    return self.name\n",
        "  \n",
        "  def __repr__(self):\n",
        "    return str(self)"
      ],
      "execution_count": 0,
      "outputs": []
    },
    {
      "metadata": {
        "id": "muyzG02mYrwF",
        "colab_type": "text"
      },
      "cell_type": "markdown",
      "source": [
        "###Q2: DPLL Implementation"
      ]
    },
    {
      "metadata": {
        "id": "uczQp8NbHoKE",
        "colab_type": "code",
        "colab": {}
      },
      "cell_type": "code",
      "source": [
        "#Q2: DPLL Implementation\n",
        "\n",
        "# Hint 4: Global variable for model\n",
        "model={}\n",
        "\n",
        "def DPLL_Satisfiable(KB):\n",
        "  '''\n",
        "  Takes a KB in CNF form and runs DPLL.\n",
        "  Returns True if the KB is satisfiable.\n",
        "  The model isn't returned because it's a global variable.\n",
        "  '''\n",
        "  \n",
        "  global model\n",
        "  \n",
        "  # Uses a set to list all unique symbols in the KB\n",
        "  symbols = set()\n",
        "  for clause in KB:\n",
        "    for s in clause:\n",
        "      symbols.add(s)\n",
        "  symbols = list(symbols)\n",
        "  # Call DPLL with the list of symbols\n",
        "  satisfiable = DPLL(KB, symbols)\n",
        "  \n",
        "  # Assign free variables\n",
        "  if satisfiable==True:\n",
        "    for s in symbols:\n",
        "      if s not in model:\n",
        "        model[s] = \"free\"\n",
        "   \n",
        "  return satisfiable"
      ],
      "execution_count": 0,
      "outputs": []
    },
    {
      "metadata": {
        "id": "icrb-65OKNc4",
        "colab_type": "code",
        "colab": {}
      },
      "cell_type": "code",
      "source": [
        "def DPLL(clauses, symbols):\n",
        "  '''\n",
        "  DPLL Algorithm\n",
        "  '''\n",
        "\n",
        "  global model\n",
        "#   print(\"call\")\n",
        "#   print(\"model: \" + str(model))\n",
        "  \n",
        "  # Variable for tracking if the model is satisfying\n",
        "  model_sat = True\n",
        "  # Placeholder for the KB to be fed into the next recursive iteration\n",
        "  next_KB = []\n",
        "  \n",
        "  # Iterate over all clauses\n",
        "  for i, c in enumerate(clauses):\n",
        "#     print(\"clause: \" + str(c))\n",
        "    # Variable for tracking if the clause is true (Hint 2)\n",
        "    done = False\n",
        "    # Counting all false literals (Hints 1,3)\n",
        "    falses = set()\n",
        "    \n",
        "    # Hint 2: One true literal in the model confirms true clause\n",
        "    for s in c:\n",
        "      if s in model:\n",
        "        if model[s] == s.sign:\n",
        "#           print(\"confirmed clause \" + str(c) + \" by symbol \" + str(s))\n",
        "          done = True\n",
        "          break\n",
        "        else:\n",
        "#           print (str(s)+\" is false, adding\")\n",
        "          falses.add(s)\n",
        "          \n",
        "    # Hint 1: False literals can be dropped\n",
        "    if not done:\n",
        "      \n",
        "      # Model disproven\n",
        "#       print(\"model disproven\")\n",
        "      model_sat = False\n",
        "      \n",
        "      # Shorten clause\n",
        "      # clauses[i] = [x for x in c if s not in falses]\n",
        "      clauses[i] = set(c) ^ falses\n",
        "#       print(\"shortened clause to \" + str(clauses[i]))\n",
        "      \n",
        "      # Add the shortened clause to the next iteration KB\n",
        "      next_KB.append(clauses[i])\n",
        "  \n",
        "      # Termination Condition 1: A clause is false\n",
        "      # since all literals were false\n",
        "      if len(clauses[i]) == 0:\n",
        "#         print(\"cond 1, all literals false\")\n",
        "        return False\n",
        "\n",
        "  # Termination Condition 2: Model wasn't disproven\n",
        "  if model_sat:\n",
        "#     print(\"cond 2, model wasn't disproven\")\n",
        "    return True\n",
        "  \n",
        "  models = [] \n",
        "  \n",
        "  # Pure symbol heuristic, or unit clause heuristic\n",
        "#   print(\"trying pure symbol\")\n",
        "  p, value = pure_symbol_heuristic(symbols, clauses)\n",
        "  if p is None:\n",
        "#     print(\"trying unit clause\")\n",
        "    p, value = unit_clause_heuristic(clauses)\n",
        " \n",
        "  if p is not None:\n",
        "    rest = symbols.copy()\n",
        "    rest.remove(p)\n",
        "    next_m = model.copy()\n",
        "    # Set up next model to be tested\n",
        "    next_m[p] = value\n",
        "    models.append(next_m)\n",
        "  \n",
        "  # If all else fails, use first heuristic\n",
        "  else:\n",
        "#     print(\"resorting to first heuristic\")\n",
        "    p, rest = symbols[0], symbols[1:]\n",
        "    next_m_true = model.copy()\n",
        "    next_m_true[p] = True\n",
        "    next_m_false = model.copy()\n",
        "    next_m_false[p] = False\n",
        "    models.append(next_m_true)\n",
        "    models.append(next_m_false)\n",
        "      \n",
        "#   print(\"prepared to test \" + str(models))\n",
        "  # Call DPLL recursively to try our models\n",
        "  for m in models:\n",
        "    model = m\n",
        "#     print(\"testing \" + str(model))\n",
        "#     print(\"with KB\" + str(next_KB))\n",
        "#     print(\"and symbols \" + str(rest))\n",
        "    satisfiable = DPLL(next_KB, rest)\n",
        "\n",
        "    # Termination propagation\n",
        "    if satisfiable==True:\n",
        "#       print(\"cond 4, propagation\")\n",
        "      return True, model\n",
        "  \n",
        "  # Termination Condition 3: Satisfiability wasn't inferred\n",
        "#   print(\"cond 3, nope\")\n",
        "  return False"
      ],
      "execution_count": 0,
      "outputs": []
    },
    {
      "metadata": {
        "id": "WVar6dSZZLLA",
        "colab_type": "text"
      },
      "cell_type": "markdown",
      "source": [
        "###E1: Degree Heuristic"
      ]
    },
    {
      "metadata": {
        "id": "LxQL36UuSRRS",
        "colab_type": "code",
        "colab": {}
      },
      "cell_type": "code",
      "source": [
        "from collections import defaultdict\n",
        "\n",
        "def degree_heuristic(symbols, clauses):\n",
        "  '''\n",
        "  Separate most frequently appearing literal from the rest\n",
        "  '''\n",
        "  \n",
        "  # Defaultdict for counting by literal name\n",
        "  count = defaultdict(int)\n",
        "  high_c = 0\n",
        "  allowed_symbols = set(symbols)\n",
        "  high_s = None\n",
        "\n",
        "  # Iterate over symbols in KB and keep track of frequency\n",
        "  for c in clauses:\n",
        "    for s in c:\n",
        "      count[s] += 1\n",
        "      if count[s] > high_c:\n",
        "        if s in set(symbols):\n",
        "          high_c = count[s]\n",
        "          high_s = s\n",
        "  rest = symbols.copy()\n",
        "  rest.remove(high_s)\n",
        "  return high_s, rest"
      ],
      "execution_count": 0,
      "outputs": []
    },
    {
      "metadata": {
        "id": "ae8g0WPwZOmk",
        "colab_type": "text"
      },
      "cell_type": "markdown",
      "source": [
        "###E2: Pure Symbol and Unit Clause Heuristics:"
      ]
    },
    {
      "metadata": {
        "id": "Tr0U8v3hdBkV",
        "colab_type": "code",
        "colab": {}
      },
      "cell_type": "code",
      "source": [
        "def pure_symbol_heuristic(symbols, clauses):\n",
        "  '''\n",
        "  Returns the most common pure symbol.\n",
        "  (A symbol that occurs with the same sign throught the KB)\n",
        "  '''\n",
        "  \n",
        "  global model\n",
        "  \n",
        "  pures = set(symbols)\n",
        "  values = {}\n",
        "  \n",
        "  # Iterate through symbols and keep track of their values\n",
        "  for c in clauses:\n",
        "    for s in c:\n",
        "      if s not in values:\n",
        "        values[s] = s.sign\n",
        "      \n",
        "      # If a symbol is found with the wrong value, it's not pure\n",
        "      if values[s] != s.sign:\n",
        "        if s in pures:\n",
        "          pures.remove(s)\n",
        "  \n",
        "  # Extra Kudos: Combine with degree heuristic\n",
        "  if len(pures) >= 1:\n",
        "    p, value = degree_heuristic(pures, clauses=clauses)\n",
        "    value = values[p]\n",
        "    # Check that unit clause doen't contradict the model\n",
        "    if p in model:\n",
        "      if model[p] == value:\n",
        "        # Return the unit clause symbol\n",
        "        return s, s.sign\n",
        "      \n",
        "  # If none found, return none \n",
        "  return None, None"
      ],
      "execution_count": 0,
      "outputs": []
    },
    {
      "metadata": {
        "id": "pKyLNikcSSeT",
        "colab_type": "code",
        "colab": {}
      },
      "cell_type": "code",
      "source": [
        "def unit_clause_heuristic(clauses):\n",
        "  '''\n",
        "  Returns a symbol that occurs in a unit clause.\n",
        "  (clause with only one literal)\n",
        "  '''\n",
        "  \n",
        "  global model\n",
        "  \n",
        "  for c in clauses:\n",
        "    # Look for unit clause\n",
        "    if len(c) == 1:\n",
        "      # Check that unit clause doen't contradict the model\n",
        "      s = next(iter(c))\n",
        "      if s in model:\n",
        "        if model[s] == s.sign:\n",
        "          # Return the unit clause symbol\n",
        "          return s, s.sign\n",
        "  # If none found, return none  \n",
        "  return None, None"
      ],
      "execution_count": 0,
      "outputs": []
    },
    {
      "metadata": {
        "id": "mUYdThDahXjt",
        "colab_type": "text"
      },
      "cell_type": "markdown",
      "source": [
        "###Q3: Test with Exercise 7.20 of Russell & Norvig:"
      ]
    },
    {
      "metadata": {
        "id": "RGmfSJIHhtis",
        "colab_type": "text"
      },
      "cell_type": "markdown",
      "source": [
        "**Converstion to CNF:**\n",
        "\n",
        "1. A <-> (BvE) \\\n",
        " A -> (BvE)^(BvE) -> A (Bidirectional implication elimination) \\\n",
        "(-AvBvE))^(-(BvE)vA) (Implication elimination) \\\n",
        "(-AvBvE)^((-B^-E)vA) (De Morgens) \\\n",
        "**(-AvBvE)^(-BvA)^(-EvA))** (Distributivity) \\\n",
        "\n",
        "2. E -> D \\\n",
        "** -EvD** (Implication elimination) \\\n",
        "\n",
        "3. C^F -> -B \\\n",
        "-(C^F)v-B (Implication elimination) \\\n",
        "**-Cv-Fv-B** (De Morgens) \\\n",
        "4. E -> B \\\n",
        "**-EvB** (Implication elimination) \\\n",
        "5. B -> F \\\n",
        "**-BvF** (Implication elimination) \\\n",
        "6. B->C \\\n",
        "**-BvC** (Implication elimination)"
      ]
    },
    {
      "metadata": {
        "id": "4tIPyQ1_dMEC",
        "colab_type": "code",
        "outputId": "16c88b52-8d78-4165-d4cc-4a35b223ce87",
        "colab": {
          "base_uri": "https://localhost:8080/",
          "height": 34
        }
      },
      "cell_type": "code",
      "source": [
        "A = Literal(\"A\")\n",
        "B = Literal(\"B\")\n",
        "C = Literal(\"C\")\n",
        "D = Literal(\"D\")\n",
        "E = Literal(\"E\")\n",
        "F = Literal(\"F\")\n",
        "\n",
        "clauses = [{-A, B, E},{-B, A},{-E, A},{-E, D},\n",
        "           {-C, -F, -B},{-E, B},{-B, F},{-B, C}]\n",
        "model={}\n",
        "satisfiable = DPLL_Satisfiable(clauses)\n",
        "print(satisfiable, model)"
      ],
      "execution_count": 0,
      "outputs": [
        {
          "output_type": "stream",
          "text": [
            "False {F: False, D: False, B: False}\n"
          ],
          "name": "stdout"
        }
      ]
    }
  ]
}