{
  "nbformat": 4,
  "nbformat_minor": 0,
  "metadata": {
    "colab": {
      "name": "CS152PW72.ipynb",
      "version": "0.3.2",
      "provenance": [],
      "collapsed_sections": []
    },
    "kernelspec": {
      "name": "python3",
      "display_name": "Python 3"
    }
  },
  "cells": [
    {
      "metadata": {
        "id": "r68QkqjbObiQ",
        "colab_type": "text"
      },
      "cell_type": "markdown",
      "source": [
        "###CS152 Pre-class Work, session 7.2\n",
        "##Forward Chaining Solver\n",
        "_Yoav Rabinovich, Oct 2018_\n",
        "\n",
        "------------------"
      ]
    },
    {
      "metadata": {
        "id": "IMRSgSgngczQ",
        "colab_type": "text"
      },
      "cell_type": "markdown",
      "source": [
        "Implementation of logical symbol class, definite clause class, and forward chaining algorithm function.\n",
        "\n",
        "This solver takes a list of definite clauses constructed from symbols as a knowledge database and a symbol to test, and returns weather the truth of the symbol is entailed by the knowledge database."
      ]
    },
    {
      "metadata": {
        "id": "Q7DI7NQzOX47",
        "colab_type": "code",
        "colab": {}
      },
      "cell_type": "code",
      "source": [
        "from collections import deque\n",
        "\n",
        "# Symbol Class\n",
        "class symbol:\n",
        "  \n",
        "  def __init__(self,name,truth=None):\n",
        "    self.name = name\n",
        "    self.truth = truth\n",
        "    \n",
        "  def __eq__(self,other):\n",
        "    if (self.name == other.name):\n",
        "      return True\n",
        "    else: return False\n",
        "\n",
        "# Definite Clause Class (takes list of symbols as premise, symbol as conclusion)\n",
        "class definiteClause:\n",
        "  \n",
        "  def __init__(self,premises,conclusion):\n",
        "    self.premises = premises\n",
        "    self.conclusion = conclusion\n",
        "  \n",
        "  def __len__(self):\n",
        "    return len(self.premises)\n",
        "  \n",
        "  def __str__(self):\n",
        "    string = \"If\"\n",
        "    for s in self.premises:\n",
        "      string += (\" \" + s.name + \",\")\n",
        "    string = string[:-1]\n",
        "    if len(self.premises)==1:\n",
        "      string += \" is\"\n",
        "    else:\n",
        "      string += \" are\"\n",
        "    string += (\" true, then \" + self.conclusion.name + \" is also true.\")\n",
        "    return string\n",
        "\n",
        "# Forward Chaining Solver (takes list of clauses as KB, symbol as alpha)\n",
        "# Returns True is KB entails alpha, False otherwise\n",
        "# O(n) where n is len(KB)\n",
        "def forward_chain(kb,alpha,report=False):\n",
        "  \n",
        "  # Lengths of premises\n",
        "  count = {}\n",
        "  # Knowledge about symbols\n",
        "  inferred = {}\n",
        "  # Known true symbols\n",
        "  agenda = deque()\n",
        "  \n",
        "  # Tracking train of thought\n",
        "  train = None\n",
        "                  \n",
        "  # Initiate data structures\n",
        "  for c in kb:\n",
        "    count[c]=len(c)\n",
        "    for s in c.premises:\n",
        "      if s.name not in inferred:\n",
        "        inferred[s.name] = False\n",
        "      if s.truth == True:\n",
        "        agenda.append(s)\n",
        "  \n",
        "  # Main Loop runs until we empty agenda\n",
        "  while not len(agenda) == 0:\n",
        "    p = agenda.popleft()\n",
        "    if p==alpha:\n",
        "      if report:\n",
        "        print(\"From: '\" + str(train) + \"':\")\n",
        "        print(alpha.name + \" is true!\")\n",
        "      return True\n",
        "    if inferred[p.name] == False:\n",
        "      if report:\n",
        "        print(\"From: '\" + str(train) + \"':\")\n",
        "        print(p.name + \" is true...\")\n",
        "      inferred[p.name] = True\n",
        "      for c in kb:\n",
        "        if p in c.premises:\n",
        "          count[c] -= 1\n",
        "          if count[c] == 0:\n",
        "            agenda.append(c.conclusion)\n",
        "            train = c\n",
        "\n",
        "  return False "
      ],
      "execution_count": 0,
      "outputs": []
    },
    {
      "metadata": {
        "id": "fIleySywSzW9",
        "colab_type": "code",
        "colab": {}
      },
      "cell_type": "code",
      "source": [
        "A = symbol(\"A\",True)\n",
        "B = symbol(\"B\",True)\n",
        "L = symbol(\"L\")\n",
        "M = symbol(\"M\")\n",
        "P = symbol(\"P\")\n",
        "Q = symbol(\"Q\")\n",
        "A_B__L = definiteClause([A,B],L)\n",
        "A_P__L = definiteClause([A,P],L)\n",
        "B_L__M = definiteClause([B,L],M)\n",
        "L_M__P = definiteClause([L,M],P)\n",
        "P__Q = definiteClause([P],Q)"
      ],
      "execution_count": 0,
      "outputs": []
    },
    {
      "metadata": {
        "id": "qwNDdaRJS6MS",
        "colab_type": "code",
        "outputId": "740a5ac2-d518-4ff8-9219-00cafe966e43",
        "colab": {
          "base_uri": "https://localhost:8080/",
          "height": 235
        }
      },
      "cell_type": "code",
      "source": [
        "print(forward_chain([A_B__L,A_P__L,B_L__M,L_M__P,P__Q],Q,True))"
      ],
      "execution_count": 0,
      "outputs": [
        {
          "output_type": "stream",
          "text": [
            "From: 'None':\n",
            "A is true...\n",
            "From: 'None':\n",
            "B is true...\n",
            "From: 'If A, B are true, then L is also true.':\n",
            "L is true...\n",
            "From: 'If B, L are true, then M is also true.':\n",
            "M is true...\n",
            "From: 'If L, M are true, then P is also true.':\n",
            "P is true...\n",
            "From: 'If P is true, then Q is also true.':\n",
            "Q is true!\n",
            "True\n"
          ],
          "name": "stdout"
        }
      ]
    },
    {
      "metadata": {
        "id": "ehTT_vMEZZUR",
        "colab_type": "code",
        "colab": {}
      },
      "cell_type": "code",
      "source": [
        ""
      ],
      "execution_count": 0,
      "outputs": []
    }
  ]
}